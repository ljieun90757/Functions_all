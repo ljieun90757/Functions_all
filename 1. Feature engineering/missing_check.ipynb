{
 "cells": [
  {
   "cell_type": "code",
   "execution_count": null,
   "metadata": {},
   "outputs": [],
   "source": [
    "def missing_check(df) : \n",
    "    # df : table  \n",
    "    \n",
    "    fig, ax = plt.subplots(figsize=(20, 6))\n",
    "    ax.set_title('Train Data Missing Values')\n",
    "    plt.xticks(rotation=90)\n",
    "    sns.heatmap(df.iloc[:,:-2].isnull(), yticklabels=False, cbar=False, cmap='magma', ax=ax)\n",
    "    plt.show()"
   ]
  },
  {
   "cell_type": "markdown",
   "metadata": {},
   "source": [
    "<B> 결과 </B> "
   ]
  },
  {
   "cell_type": "markdown",
   "metadata": {},
   "source": [
    "![missing_check](https://user-images.githubusercontent.com/49746140/106373630-e1e8d280-63be-11eb-9be6-7e96ed81e42c.JPG)"
   ]
  },
  {
   "cell_type": "code",
   "execution_count": null,
   "metadata": {},
   "outputs": [],
   "source": []
  }
 ],
 "metadata": {
  "kernelspec": {
   "display_name": "Python 3",
   "language": "python",
   "name": "python3"
  },
  "language_info": {
   "codemirror_mode": {
    "name": "ipython",
    "version": 3
   },
   "file_extension": ".py",
   "mimetype": "text/x-python",
   "name": "python",
   "nbconvert_exporter": "python",
   "pygments_lexer": "ipython3",
   "version": "3.7.3"
  }
 },
 "nbformat": 4,
 "nbformat_minor": 4
}
