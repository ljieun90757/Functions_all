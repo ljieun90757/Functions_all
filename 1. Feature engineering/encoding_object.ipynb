{
 "cells": [
  {
   "cell_type": "code",
   "execution_count": null,
   "metadata": {},
   "outputs": [],
   "source": [
    "def encoding_object(df, drop_column = False, drop_first = False) : \n",
    "    # df : 테이블이름\n",
    "    # drop_column = 제외 필요 컬럼 (ex : target)\n",
    "    # drop_first : n-1개의 특성 만들어줄지 말지\n",
    "    if drop_column : \n",
    "        df.drop(drop_column, axis=1, inplace=True)\n",
    "    columnsToEncode = df.select_dtypes(include=[object]).columns\n",
    "    df = pd.get_dummies(df, columns=columnsToEncode, drop_first=drop_first)\n",
    "    return df "
   ]
  },
  {
   "cell_type": "code",
   "execution_count": null,
   "metadata": {},
   "outputs": [],
   "source": [
    "df = encoding_object(df)"
   ]
  }
 ],
 "metadata": {
  "kernelspec": {
   "display_name": "Python 3",
   "language": "python",
   "name": "python3"
  },
  "language_info": {
   "codemirror_mode": {
    "name": "ipython",
    "version": 3
   },
   "file_extension": ".py",
   "mimetype": "text/x-python",
   "name": "python",
   "nbconvert_exporter": "python",
   "pygments_lexer": "ipython3",
   "version": "3.7.3"
  }
 },
 "nbformat": 4,
 "nbformat_minor": 4
}
