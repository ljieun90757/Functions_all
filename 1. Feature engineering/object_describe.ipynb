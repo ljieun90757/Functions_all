{
 "cells": [
  {
   "cell_type": "code",
   "execution_count": null,
   "metadata": {},
   "outputs": [],
   "source": [
    "def object_describe(df, ID) :\n",
    "    \n",
    "    # df : 테이블명 \n",
    "    # ID : Unique count 기준이 되는 ID \n",
    "    \n",
    "    key_list = list()\n",
    "    value_list = list() \n",
    "    cust_max_list = list()\n",
    "    cust_max_list2 = list()\n",
    "    cust_max_value = list()\n",
    "    cust_max_value2 = list() \n",
    "    for key, value in dict(df.dtypes == object).items() : \n",
    "        if value : \n",
    "            key_list.append(key) \n",
    "            value_list.append(df[key].nunique())\n",
    "            cust_max_list.append(df.groupby(key)[ID].nunique().sort_values(ascending =False).keys()[0])\n",
    "            cust_max_value.append(df[key].value_counts(normalize=True).sort_values(ascending =False)[0])\n",
    "            cust_max_list2.append(df.groupby(key)[ID].nunique().sort_values(ascending =False).keys()[1])\n",
    "            cust_max_value2.append(df[key].value_counts(normalize=True).sort_values(ascending =False)[1])\n",
    "    result = pd.DataFrame({'column' : key_list\n",
    "                         ,'label_count' : value_list \n",
    "                         ,'Top1_label':cust_max_list   \n",
    "                         ,'Top1_percent':cust_max_value   \n",
    "                         ,'Top2_label':cust_max_list2  \n",
    "                         ,'Top2_percent':cust_max_value2  \n",
    "                         })\n",
    "    return result"
   ]
  },
  {
   "cell_type": "markdown",
   "metadata": {},
   "source": [
    "<B> 결과 </B> "
   ]
  },
  {
   "cell_type": "markdown",
   "metadata": {},
   "source": [
    "![object_describe](https://user-images.githubusercontent.com/49746140/106373594-7999f100-63be-11eb-9582-703cff17b706.JPG)"
   ]
  },
  {
   "cell_type": "code",
   "execution_count": null,
   "metadata": {},
   "outputs": [],
   "source": []
  }
 ],
 "metadata": {
  "kernelspec": {
   "display_name": "Python 3",
   "language": "python",
   "name": "python3"
  },
  "language_info": {
   "codemirror_mode": {
    "name": "ipython",
    "version": 3
   },
   "file_extension": ".py",
   "mimetype": "text/x-python",
   "name": "python",
   "nbconvert_exporter": "python",
   "pygments_lexer": "ipython3",
   "version": "3.7.3"
  }
 },
 "nbformat": 4,
 "nbformat_minor": 4
}
