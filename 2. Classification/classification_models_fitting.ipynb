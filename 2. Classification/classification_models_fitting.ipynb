{
 "cells": [
  {
   "cell_type": "code",
   "execution_count": null,
   "metadata": {},
   "outputs": [],
   "source": [
    "m_logreg = LogisticRegression()\n",
    "m_gbc = GradientBoostingClassifier(random_state=14)\n",
    "m_rfc = RandomForestClassifier(criterion='gini', n_estimators=999,\n",
    "                            max_depth=4, random_state=14)\n",
    "\n",
    "\n",
    "# model 및 cv 정의 \n",
    "cv = StratifiedKFold(11, shuffle=True, random_state=14)\n",
    "models = [m_logreg, m_gbc, m_rfc]"
   ]
  },
  {
   "cell_type": "code",
   "execution_count": null,
   "metadata": {},
   "outputs": [],
   "source": [
    "def estimates(X_data, y_data, models, cv):\n",
    "\n",
    "    # X_data : features \n",
    "    # y_data : target \n",
    "    # models : model list \n",
    "    # cv : StratifiedKFold(11, shuffle=True, random_state=14) 미리 정의 \n",
    "    \n",
    "    train_acc_dict = dict()\n",
    "    test_acc_dict = dict()\n",
    "    time_dict = dict()\n",
    "    \n",
    "    for model in models:\n",
    "        \n",
    "        current_model_name = model.__class__.__name__\n",
    "        \n",
    "        cv_results = cross_validate(model, X_data, y_data, cv=cv,\n",
    "                                    return_train_score=True, scoring='accuracy')\n",
    "        \n",
    "        train_acc_dict[current_model_name] = cv_results['train_score'].mean()\n",
    "        test_acc_dict[current_model_name] = cv_results['test_score'].mean()\n",
    "        time_dict[current_model_name] = cv_results['fit_time'].mean()\n",
    "        \n",
    "    return train_acc_dict, test_acc_dict, time_dict"
   ]
  },
  {
   "cell_type": "code",
   "execution_count": null,
   "metadata": {},
   "outputs": [],
   "source": [
    "# training \n",
    "train_acc_dict, test_acc_dict, time_dict = estimates(X, y, models, cv)"
   ]
  },
  {
   "cell_type": "markdown",
   "metadata": {},
   "source": [
    "![classification_models_fitting](https://user-images.githubusercontent.com/49746140/106373701-8a973200-63bf-11eb-8f27-1098536a4347.JPG)"
   ]
  },
  {
   "cell_type": "code",
   "execution_count": null,
   "metadata": {},
   "outputs": [],
   "source": []
  }
 ],
 "metadata": {
  "kernelspec": {
   "display_name": "Python 3",
   "language": "python",
   "name": "python3"
  },
  "language_info": {
   "codemirror_mode": {
    "name": "ipython",
    "version": 3
   },
   "file_extension": ".py",
   "mimetype": "text/x-python",
   "name": "python",
   "nbconvert_exporter": "python",
   "pygments_lexer": "ipython3",
   "version": "3.7.3"
  }
 },
 "nbformat": 4,
 "nbformat_minor": 4
}
