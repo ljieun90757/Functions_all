{
 "cells": [
  {
   "cell_type": "code",
   "execution_count": null,
   "metadata": {},
   "outputs": [],
   "source": [
    "# !pip install autoviz\n",
    "from autoviz.AutoViz_Class import AutoViz_Class"
   ]
  },
  {
   "cell_type": "code",
   "execution_count": null,
   "metadata": {},
   "outputs": [],
   "source": [
    "AV = AutoViz_Class()\n",
    "filename = 'BankChurners_chng.csv'\n",
    "target = 'Attrition_Flag'\n",
    "df_viz = AV.AutoViz(filename, depVar=target)"
   ]
  },
  {
   "cell_type": "markdown",
   "metadata": {},
   "source": [
    "<B> 결과 </B> "
   ]
  },
  {
   "cell_type": "markdown",
   "metadata": {},
   "source": [
    "![auto_eda](https://user-images.githubusercontent.com/49746140/106374383-5e32e400-63c6-11eb-8063-4711f4664eec.JPG)"
   ]
  },
  {
   "cell_type": "code",
   "execution_count": null,
   "metadata": {},
   "outputs": [],
   "source": []
  }
 ],
 "metadata": {
  "kernelspec": {
   "display_name": "Python 3",
   "language": "python",
   "name": "python3"
  },
  "language_info": {
   "codemirror_mode": {
    "name": "ipython",
    "version": 3
   },
   "file_extension": ".py",
   "mimetype": "text/x-python",
   "name": "python",
   "nbconvert_exporter": "python",
   "pygments_lexer": "ipython3",
   "version": "3.7.3"
  }
 },
 "nbformat": 4,
 "nbformat_minor": 4
}
