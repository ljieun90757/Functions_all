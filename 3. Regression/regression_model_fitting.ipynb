{
 "cells": [
  {
   "cell_type": "code",
   "execution_count": null,
   "metadata": {},
   "outputs": [],
   "source": [
    "# evaluate a given model using cross-validation\n",
    "# 안정된 교차 검증을 위해 repeats 수만큼 반복해서 진행됨 \n",
    "def evaluate_model(model, X, y,scoring='neg_mean_absolute_error'):\n",
    "    cv = RepeatedKFold(n_splits=10, n_repeats=5, random_state=19)\n",
    "    scores = cross_val_score(model, X, y, scoring=scoring, cv=cv, n_jobs=-1, error_score='raise')\n",
    "    return scores\n",
    "\n",
    "def get_result(models): \n",
    "\n",
    "    # evaluate the models and store results\n",
    "    results, names = list(), list()\n",
    "    for model in models:\n",
    "        name = model.__class__.__name__\n",
    "        scores = evaluate_model(model, X_train, y_train)\n",
    "        results.append(scores)\n",
    "        names.append(name)\n",
    "        print(f'{name} {mean(scores):.3f} {std(scores):.3f}')\n",
    "    # plot model performance for comparison\n",
    "    pyplot.boxplot(results, labels=names, showmeans=True)\n",
    "    pyplot.show()"
   ]
  },
  {
   "cell_type": "code",
   "execution_count": null,
   "metadata": {},
   "outputs": [],
   "source": [
    "# model 정의한 list 추가 \n",
    "models = [ridge_model, lasso_model,rf_model] "
   ]
  },
  {
   "cell_type": "markdown",
   "metadata": {},
   "source": [
    "<B> 결과 </B>"
   ]
  },
  {
   "cell_type": "markdown",
   "metadata": {},
   "source": [
    "![regression_model_fitting](https://user-images.githubusercontent.com/49746140/106374258-b36df600-63c4-11eb-8fd4-0e0763c2a8c8.JPG)"
   ]
  },
  {
   "cell_type": "code",
   "execution_count": null,
   "metadata": {},
   "outputs": [],
   "source": []
  }
 ],
 "metadata": {
  "kernelspec": {
   "display_name": "Python 3",
   "language": "python",
   "name": "python3"
  },
  "language_info": {
   "codemirror_mode": {
    "name": "ipython",
    "version": 3
   },
   "file_extension": ".py",
   "mimetype": "text/x-python",
   "name": "python",
   "nbconvert_exporter": "python",
   "pygments_lexer": "ipython3",
   "version": "3.7.3"
  }
 },
 "nbformat": 4,
 "nbformat_minor": 4
}
